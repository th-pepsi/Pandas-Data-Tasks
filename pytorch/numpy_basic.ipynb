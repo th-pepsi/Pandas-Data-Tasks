{
 "cells": [
  {
   "cell_type": "code",
   "execution_count": 1,
   "id": "dfd6ba80-bf7f-497e-9356-dfa034b459e5",
   "metadata": {},
   "outputs": [],
   "source": [
    "import numpy as np"
   ]
  },
  {
   "cell_type": "code",
   "execution_count": 3,
   "id": "918e105a-a702-407f-b803-cd083a95e6cf",
   "metadata": {},
   "outputs": [
    {
     "name": "stdout",
     "output_type": "stream",
     "text": [
      "<class 'numpy.ndarray'> [3.14 2.17 0.   1.   2.  ]\n"
     ]
    }
   ],
   "source": [
    "lst1 = [3.14, 2.17, 0, 1, 2]\n",
    "nd1 = np.array(lst1)\n",
    "print(type(nd1),nd1)"
   ]
  },
  {
   "cell_type": "markdown",
   "id": "0b80e9ab-072a-4a53-82d8-445d67ca4ba2",
   "metadata": {},
   "source": [
    "##### random 生成随机数"
   ]
  },
  {
   "cell_type": "code",
   "execution_count": 9,
   "id": "b5befaf1-d399-4604-9c2b-851e5f622efd",
   "metadata": {},
   "outputs": [
    {
     "name": "stdout",
     "output_type": "stream",
     "text": [
      "[[0.9807642  0.68482974 0.4809319 ]\n",
      " [0.39211752 0.34317802 0.72904971]\n",
      " [0.43857224 0.0596779  0.39804426]] (3, 3)\n",
      "[[-1.0856306   0.99734545  0.2829785 ]\n",
      " [-1.50629471 -0.57860025  1.65143654]]\n",
      "[[-1.50629471 -0.57860025  1.65143654]\n",
      " [-1.0856306   0.99734545  0.2829785 ]]\n"
     ]
    }
   ],
   "source": [
    "nd2 = np.random.random([3,3])\n",
    "print(nd2, nd2.shape)\n",
    "\n",
    "np.random.seed(123)\n",
    "nd3 = np.random.randn(2,3)\n",
    "print(nd3)\n",
    "np.random.shuffle(nd3)\n",
    "print(nd3)"
   ]
  },
  {
   "cell_type": "markdown",
   "id": "4a3e2e07-5c65-4a1b-bba3-561cf1a5b4a1",
   "metadata": {},
   "source": [
    "##### 生成特定的矩阵"
   ]
  },
  {
   "cell_type": "code",
   "execution_count": 14,
   "id": "98c5fd08-95a7-4f2d-a228-6530c3e4cd97",
   "metadata": {},
   "outputs": [
    {
     "name": "stdout",
     "output_type": "stream",
     "text": [
      "[[0. 0. 0. 0.]\n",
      " [0. 0. 0. 0.]\n",
      " [0. 0. 0. 0.]]\n",
      "[[0. 0. 0. 0.]\n",
      " [0. 0. 0. 0.]\n",
      " [0. 0. 0. 0.]]\n",
      "[[1. 1. 1.]\n",
      " [1. 1. 1.]]\n",
      "[[1. 0. 0.]\n",
      " [0. 1. 0.]\n",
      " [0. 0. 1.]]\n",
      "[[1 0 0]\n",
      " [0 2 0]\n",
      " [0 0 3]]\n"
     ]
    }
   ],
   "source": [
    "nd4 = np.zeros((3,4))\n",
    "nd5 = np.zeros_like(nd4)\n",
    "nd6 = np.ones((2,3))\n",
    "nd7 = np.eye(3)\n",
    "nd8 = np.diag([1,2,3])\n",
    "\n",
    "print(nd4)\n",
    "print(nd5)\n",
    "print(nd6)\n",
    "print(nd7)\n",
    "print(nd8)"
   ]
  },
  {
   "cell_type": "markdown",
   "id": "ae8f3125-2b78-4060-a94f-24950882065b",
   "metadata": {},
   "source": [
    "##### 保存暂时的数据到本地文件"
   ]
  },
  {
   "cell_type": "code",
   "execution_count": 15,
   "id": "61a181a7-0ba2-4817-843c-81e49608bc21",
   "metadata": {},
   "outputs": [
    {
     "name": "stdout",
     "output_type": "stream",
     "text": [
      "[[0.41092437 0.5796943  0.13995076 0.40101756 0.62731701]\n",
      " [0.32415089 0.24475928 0.69475518 0.5939024  0.63179202]\n",
      " [0.44025718 0.08372648 0.71233018 0.42786349 0.2977805 ]\n",
      " [0.49208478 0.74029639 0.35772892 0.41720995 0.65472131]\n",
      " [0.37380143 0.23451288 0.98799529 0.76599595 0.77700444]]\n"
     ]
    }
   ],
   "source": [
    "nd9 = np.random.random([5,5])\n",
    "np.savetxt(X=nd9, fname='./test1.txt')\n",
    "nd10 = np.loadtxt('./test1.txt')\n",
    "print(nd10)"
   ]
  },
  {
   "cell_type": "code",
   "execution_count": null,
   "id": "454577de-46c5-47d2-8912-d902407a6f1b",
   "metadata": {},
   "outputs": [],
   "source": []
  }
 ],
 "metadata": {
  "kernelspec": {
   "display_name": "Python 3 (ipykernel)",
   "language": "python",
   "name": "python3"
  },
  "language_info": {
   "codemirror_mode": {
    "name": "ipython",
    "version": 3
   },
   "file_extension": ".py",
   "mimetype": "text/x-python",
   "name": "python",
   "nbconvert_exporter": "python",
   "pygments_lexer": "ipython3",
   "version": "3.10.8"
  }
 },
 "nbformat": 4,
 "nbformat_minor": 5
}
