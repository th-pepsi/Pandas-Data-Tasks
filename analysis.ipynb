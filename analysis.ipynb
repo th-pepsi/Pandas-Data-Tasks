{
 "cells": [
  {
   "cell_type": "markdown",
   "id": "f31f5d1d-1388-452f-be87-042b54304409",
   "metadata": {},
   "source": [
    "# Sales Analysis"
   ]
  },
  {
   "cell_type": "markdown",
   "id": "2e05ccbe-91cf-4a56-b7d9-ca69b6e74458",
   "metadata": {},
   "source": [
    "### Import necessary libraries"
   ]
  },
  {
   "cell_type": "code",
   "execution_count": 62,
   "id": "f0abf264-cc45-40ce-87f1-9b1eb4a23550",
   "metadata": {},
   "outputs": [],
   "source": [
    "import pandas as pd\n",
    "import os"
   ]
  },
  {
   "cell_type": "markdown",
   "id": "77763771-3232-40ed-a992-558ebc315f57",
   "metadata": {},
   "source": [
    "### Merge data from each month into one CSV"
   ]
  },
  {
   "cell_type": "code",
   "execution_count": 63,
   "id": "56501b62-f4a6-434b-b8ee-cdb9fca9f25e",
   "metadata": {},
   "outputs": [],
   "source": [
    "files = [file for file in os.listdir('./SalesAnalysis/Sales_Data') if not file.startswith('.')] \n",
    "\n",
    "mergeData = pd.DataFrame()\n",
    "\n",
    "for file in files:\n",
    "    curr_data = pd.read_csv('./SalesAnalysis/Sales_Data/'+file)\n",
    "    mergeData = pd.concat([mergeData,curr_data])\n",
    "    \n",
    "mergeData.to_csv('all_data.csv',index=False)"
   ]
  },
  {
   "cell_type": "markdown",
   "id": "8768f375-1452-49e8-b082-dd65ab0d1ef2",
   "metadata": {},
   "source": [
    "### Read in updated dataframe"
   ]
  },
  {
   "cell_type": "code",
   "execution_count": 64,
   "id": "accd9830-0fd6-48ee-83d6-969de08ad54a",
   "metadata": {},
   "outputs": [
    {
     "name": "stdout",
     "output_type": "stream",
     "text": [
      "Order ID            186305\n",
      "Product             186305\n",
      "Quantity Ordered    186305\n",
      "Price Each          186305\n",
      "Order Date          186305\n",
      "Purchase Address    186305\n",
      "dtype: int64\n"
     ]
    }
   ],
   "source": [
    "all_data = pd.read_csv('all_data.csv')\n",
    "print(all_data.count())"
   ]
  },
  {
   "cell_type": "markdown",
   "id": "9e0d0752-fdd2-4b86-85ea-8fd069326db6",
   "metadata": {},
   "source": [
    "### Clean up the data\n",
    "\n",
    "The first step in this is figuring out what we need to clean. I have found in practice, that you find things you need to clean as you perform operations and get errors. Based on the error, you decide how you should go about cleaning the data"
   ]
  },
  {
   "cell_type": "markdown",
   "id": "82f327db-a647-4534-9f6f-80292649eb77",
   "metadata": {},
   "source": [
    "##### Drop rows of NAN"
   ]
  },
  {
   "cell_type": "code",
   "execution_count": 65,
   "id": "3549069c-2576-4c7d-80a0-a7b28b5a593b",
   "metadata": {},
   "outputs": [
    {
     "data": {
      "text/html": [
       "<div>\n",
       "<style scoped>\n",
       "    .dataframe tbody tr th:only-of-type {\n",
       "        vertical-align: middle;\n",
       "    }\n",
       "\n",
       "    .dataframe tbody tr th {\n",
       "        vertical-align: top;\n",
       "    }\n",
       "\n",
       "    .dataframe thead th {\n",
       "        text-align: right;\n",
       "    }\n",
       "</style>\n",
       "<table border=\"1\" class=\"dataframe\">\n",
       "  <thead>\n",
       "    <tr style=\"text-align: right;\">\n",
       "      <th></th>\n",
       "      <th>Order ID</th>\n",
       "      <th>Product</th>\n",
       "      <th>Quantity Ordered</th>\n",
       "      <th>Price Each</th>\n",
       "      <th>Order Date</th>\n",
       "      <th>Purchase Address</th>\n",
       "    </tr>\n",
       "  </thead>\n",
       "  <tbody>\n",
       "    <tr>\n",
       "      <th>264</th>\n",
       "      <td>NaN</td>\n",
       "      <td>NaN</td>\n",
       "      <td>NaN</td>\n",
       "      <td>NaN</td>\n",
       "      <td>NaN</td>\n",
       "      <td>NaN</td>\n",
       "    </tr>\n",
       "    <tr>\n",
       "      <th>648</th>\n",
       "      <td>NaN</td>\n",
       "      <td>NaN</td>\n",
       "      <td>NaN</td>\n",
       "      <td>NaN</td>\n",
       "      <td>NaN</td>\n",
       "      <td>NaN</td>\n",
       "    </tr>\n",
       "    <tr>\n",
       "      <th>680</th>\n",
       "      <td>NaN</td>\n",
       "      <td>NaN</td>\n",
       "      <td>NaN</td>\n",
       "      <td>NaN</td>\n",
       "      <td>NaN</td>\n",
       "      <td>NaN</td>\n",
       "    </tr>\n",
       "    <tr>\n",
       "      <th>1385</th>\n",
       "      <td>NaN</td>\n",
       "      <td>NaN</td>\n",
       "      <td>NaN</td>\n",
       "      <td>NaN</td>\n",
       "      <td>NaN</td>\n",
       "      <td>NaN</td>\n",
       "    </tr>\n",
       "    <tr>\n",
       "      <th>1495</th>\n",
       "      <td>NaN</td>\n",
       "      <td>NaN</td>\n",
       "      <td>NaN</td>\n",
       "      <td>NaN</td>\n",
       "      <td>NaN</td>\n",
       "      <td>NaN</td>\n",
       "    </tr>\n",
       "  </tbody>\n",
       "</table>\n",
       "</div>"
      ],
      "text/plain": [
       "     Order ID Product Quantity Ordered Price Each Order Date Purchase Address\n",
       "264       NaN     NaN              NaN        NaN        NaN              NaN\n",
       "648       NaN     NaN              NaN        NaN        NaN              NaN\n",
       "680       NaN     NaN              NaN        NaN        NaN              NaN\n",
       "1385      NaN     NaN              NaN        NaN        NaN              NaN\n",
       "1495      NaN     NaN              NaN        NaN        NaN              NaN"
      ]
     },
     "metadata": {},
     "output_type": "display_data"
    },
    {
     "data": {
      "text/html": [
       "<div>\n",
       "<style scoped>\n",
       "    .dataframe tbody tr th:only-of-type {\n",
       "        vertical-align: middle;\n",
       "    }\n",
       "\n",
       "    .dataframe tbody tr th {\n",
       "        vertical-align: top;\n",
       "    }\n",
       "\n",
       "    .dataframe thead th {\n",
       "        text-align: right;\n",
       "    }\n",
       "</style>\n",
       "<table border=\"1\" class=\"dataframe\">\n",
       "  <thead>\n",
       "    <tr style=\"text-align: right;\">\n",
       "      <th></th>\n",
       "      <th>Order ID</th>\n",
       "      <th>Product</th>\n",
       "      <th>Quantity Ordered</th>\n",
       "      <th>Price Each</th>\n",
       "      <th>Order Date</th>\n",
       "      <th>Purchase Address</th>\n",
       "    </tr>\n",
       "  </thead>\n",
       "  <tbody>\n",
       "    <tr>\n",
       "      <th>0</th>\n",
       "      <td>295665</td>\n",
       "      <td>Macbook Pro Laptop</td>\n",
       "      <td>1</td>\n",
       "      <td>1700</td>\n",
       "      <td>12/30/19 00:01</td>\n",
       "      <td>136 Church St, New York City, NY 10001</td>\n",
       "    </tr>\n",
       "    <tr>\n",
       "      <th>1</th>\n",
       "      <td>295666</td>\n",
       "      <td>LG Washing Machine</td>\n",
       "      <td>1</td>\n",
       "      <td>600.0</td>\n",
       "      <td>12/29/19 07:03</td>\n",
       "      <td>562 2nd St, New York City, NY 10001</td>\n",
       "    </tr>\n",
       "    <tr>\n",
       "      <th>2</th>\n",
       "      <td>295667</td>\n",
       "      <td>USB-C Charging Cable</td>\n",
       "      <td>1</td>\n",
       "      <td>11.95</td>\n",
       "      <td>12/12/19 18:21</td>\n",
       "      <td>277 Main St, New York City, NY 10001</td>\n",
       "    </tr>\n",
       "    <tr>\n",
       "      <th>3</th>\n",
       "      <td>295668</td>\n",
       "      <td>27in FHD Monitor</td>\n",
       "      <td>1</td>\n",
       "      <td>149.99</td>\n",
       "      <td>12/22/19 15:13</td>\n",
       "      <td>410 6th St, San Francisco, CA 94016</td>\n",
       "    </tr>\n",
       "    <tr>\n",
       "      <th>4</th>\n",
       "      <td>295669</td>\n",
       "      <td>USB-C Charging Cable</td>\n",
       "      <td>1</td>\n",
       "      <td>11.95</td>\n",
       "      <td>12/18/19 12:38</td>\n",
       "      <td>43 Hill St, Atlanta, GA 30301</td>\n",
       "    </tr>\n",
       "  </tbody>\n",
       "</table>\n",
       "</div>"
      ],
      "text/plain": [
       "  Order ID               Product Quantity Ordered Price Each      Order Date  \\\n",
       "0   295665    Macbook Pro Laptop                1       1700  12/30/19 00:01   \n",
       "1   295666    LG Washing Machine                1      600.0  12/29/19 07:03   \n",
       "2   295667  USB-C Charging Cable                1      11.95  12/12/19 18:21   \n",
       "3   295668      27in FHD Monitor                1     149.99  12/22/19 15:13   \n",
       "4   295669  USB-C Charging Cable                1      11.95  12/18/19 12:38   \n",
       "\n",
       "                         Purchase Address  \n",
       "0  136 Church St, New York City, NY 10001  \n",
       "1     562 2nd St, New York City, NY 10001  \n",
       "2    277 Main St, New York City, NY 10001  \n",
       "3     410 6th St, San Francisco, CA 94016  \n",
       "4           43 Hill St, Atlanta, GA 30301  "
      ]
     },
     "execution_count": 65,
     "metadata": {},
     "output_type": "execute_result"
    }
   ],
   "source": [
    "# Find NAN\n",
    "nan_df = all_data[all_data.isna().any(axis=1)]\n",
    "display(nan_df.head())\n",
    "\n",
    "all_data = all_data.dropna(how='all')\n",
    "all_data.head()"
   ]
  },
  {
   "cell_type": "markdown",
   "id": "0ba184ee-03ad-46f9-a8dc-697dda5ce9a7",
   "metadata": {},
   "source": [
    "##### Get rid of text in order date column"
   ]
  },
  {
   "cell_type": "code",
   "execution_count": 66,
   "id": "4a18fafc-dfe1-4b26-9a14-73849704a029",
   "metadata": {},
   "outputs": [
    {
     "name": "stdout",
     "output_type": "stream",
     "text": [
      "  Order ID               Product Quantity Ordered Price Each      Order Date  \\\n",
      "0   295665    Macbook Pro Laptop                1       1700  12/30/19 00:01   \n",
      "1   295666    LG Washing Machine                1      600.0  12/29/19 07:03   \n",
      "2   295667  USB-C Charging Cable                1      11.95  12/12/19 18:21   \n",
      "3   295668      27in FHD Monitor                1     149.99  12/22/19 15:13   \n",
      "4   295669  USB-C Charging Cable                1      11.95  12/18/19 12:38   \n",
      "\n",
      "                         Purchase Address  \n",
      "0  136 Church St, New York City, NY 10001  \n",
      "1     562 2nd St, New York City, NY 10001  \n",
      "2    277 Main St, New York City, NY 10001  \n",
      "3     410 6th St, San Francisco, CA 94016  \n",
      "4           43 Hill St, Atlanta, GA 30301  \n"
     ]
    }
   ],
   "source": [
    "all_data = all_data[all_data['Order Date'].str[0:2]!='Or']\n",
    "print(all_data.head())"
   ]
  },
  {
   "cell_type": "markdown",
   "id": "d1750959-b4c6-415c-975c-a1b535845626",
   "metadata": {},
   "source": [
    "##### Make columns correct type"
   ]
  },
  {
   "cell_type": "code",
   "execution_count": 67,
   "id": "1277bd06-0386-40ff-a7ec-e1bcba34cd3f",
   "metadata": {},
   "outputs": [],
   "source": [
    "all_data['Quantity Ordered'] = pd.to_numeric(all_data['Quantity Ordered'], errors='coerce')\n",
    "all_data['Price Each'] = pd.to_numeric(all_data['Price Each'], errors='coerce')"
   ]
  },
  {
   "cell_type": "markdown",
   "id": "7a300e77-436a-4e08-bf81-9943251d28ca",
   "metadata": {},
   "source": [
    "##### Augment data with additional columns"
   ]
  },
  {
   "cell_type": "markdown",
   "id": "3f92d7fe-b4f6-468e-afed-e1991333f1c7",
   "metadata": {},
   "source": [
    "Add month column"
   ]
  },
  {
   "cell_type": "code",
   "execution_count": 68,
   "id": "95aa071e-b1b8-47a6-a315-be8e82c6c811",
   "metadata": {},
   "outputs": [
    {
     "name": "stderr",
     "output_type": "stream",
     "text": [
      "/var/folders/2q/n7vgjd694zd8pxztn7p8fd140000gn/T/ipykernel_90457/3977751181.py:1: UserWarning: Could not infer format, so each element will be parsed individually, falling back to `dateutil`. To ensure parsing is consistent and as-expected, please specify a format.\n",
      "  all_data['Month'] = pd.to_datetime(all_data['Order Date']).dt.month\n"
     ]
    },
    {
     "name": "stdout",
     "output_type": "stream",
     "text": [
      "  Order ID               Product  Quantity Ordered  Price Each  \\\n",
      "0   295665    Macbook Pro Laptop                 1     1700.00   \n",
      "1   295666    LG Washing Machine                 1      600.00   \n",
      "2   295667  USB-C Charging Cable                 1       11.95   \n",
      "3   295668      27in FHD Monitor                 1      149.99   \n",
      "4   295669  USB-C Charging Cable                 1       11.95   \n",
      "\n",
      "       Order Date                        Purchase Address  Month  \n",
      "0  12/30/19 00:01  136 Church St, New York City, NY 10001     12  \n",
      "1  12/29/19 07:03     562 2nd St, New York City, NY 10001     12  \n",
      "2  12/12/19 18:21    277 Main St, New York City, NY 10001     12  \n",
      "3  12/22/19 15:13     410 6th St, San Francisco, CA 94016     12  \n",
      "4  12/18/19 12:38           43 Hill St, Atlanta, GA 30301     12  \n"
     ]
    }
   ],
   "source": [
    "all_data['Month'] = pd.to_datetime(all_data['Order Date']).dt.month\n",
    "\n",
    "print(all_data.head())"
   ]
  },
  {
   "cell_type": "markdown",
   "id": "2a53275c-1991-4553-98df-d2504586d95a",
   "metadata": {},
   "source": [
    "##### Add city column"
   ]
  },
  {
   "cell_type": "code",
   "execution_count": 70,
   "id": "714969d3-f3fb-41c5-a4fb-fa33de9e632c",
   "metadata": {},
   "outputs": [
    {
     "name": "stdout",
     "output_type": "stream",
     "text": [
      "  Order ID               Product  Quantity Ordered  Price Each  \\\n",
      "0   295665    Macbook Pro Laptop                 1     1700.00   \n",
      "1   295666    LG Washing Machine                 1      600.00   \n",
      "2   295667  USB-C Charging Cable                 1       11.95   \n",
      "3   295668      27in FHD Monitor                 1      149.99   \n",
      "4   295669  USB-C Charging Cable                 1       11.95   \n",
      "\n",
      "       Order Date                        Purchase Address  Month  \\\n",
      "0  12/30/19 00:01  136 Church St, New York City, NY 10001     12   \n",
      "1  12/29/19 07:03     562 2nd St, New York City, NY 10001     12   \n",
      "2  12/12/19 18:21    277 Main St, New York City, NY 10001     12   \n",
      "3  12/22/19 15:13     410 6th St, San Francisco, CA 94016     12   \n",
      "4  12/18/19 12:38           43 Hill St, Atlanta, GA 30301     12   \n",
      "\n",
      "                 City  \n",
      "0  New York City (NY)  \n",
      "1  New York City (NY)  \n",
      "2  New York City (NY)  \n",
      "3  San Francisco (CA)  \n",
      "4        Atlanta (GA)  \n"
     ]
    }
   ],
   "source": [
    "def get_city(address):\n",
    "    return address.split(',')[1].strip(' ')\n",
    "\n",
    "def get_state(address):\n",
    "    return address.split(',')[2].split(' ')[1]\n",
    "\n",
    "all_data['City'] = all_data['Purchase Address'].apply(lambda x:f\"{get_city(x)} ({get_state(x)})\")\n",
    "\n",
    "print(all_data.head())"
   ]
  },
  {
   "cell_type": "markdown",
   "id": "08e5ae78-9d53-4abf-9b4a-30562e25b451",
   "metadata": {},
   "source": [
    "### Data Exploration!"
   ]
  },
  {
   "cell_type": "markdown",
   "id": "69b76f81-38d1-44a7-8564-0d7f65172c42",
   "metadata": {},
   "source": [
    "#### Question 1: What was the best month for sales? How much was earned that month? "
   ]
  },
  {
   "cell_type": "code",
   "execution_count": 72,
   "id": "cc3231bd-974f-4a1b-886b-f1212e04c78c",
   "metadata": {},
   "outputs": [
    {
     "data": {
      "text/html": [
       "<div>\n",
       "<style scoped>\n",
       "    .dataframe tbody tr th:only-of-type {\n",
       "        vertical-align: middle;\n",
       "    }\n",
       "\n",
       "    .dataframe tbody tr th {\n",
       "        vertical-align: top;\n",
       "    }\n",
       "\n",
       "    .dataframe thead th {\n",
       "        text-align: right;\n",
       "    }\n",
       "</style>\n",
       "<table border=\"1\" class=\"dataframe\">\n",
       "  <thead>\n",
       "    <tr style=\"text-align: right;\">\n",
       "      <th></th>\n",
       "      <th>Order ID</th>\n",
       "      <th>Product</th>\n",
       "      <th>Quantity Ordered</th>\n",
       "      <th>Price Each</th>\n",
       "      <th>Order Date</th>\n",
       "      <th>Purchase Address</th>\n",
       "      <th>City</th>\n",
       "      <th>Sales</th>\n",
       "    </tr>\n",
       "    <tr>\n",
       "      <th>Month</th>\n",
       "      <th></th>\n",
       "      <th></th>\n",
       "      <th></th>\n",
       "      <th></th>\n",
       "      <th></th>\n",
       "      <th></th>\n",
       "      <th></th>\n",
       "      <th></th>\n",
       "    </tr>\n",
       "  </thead>\n",
       "  <tbody>\n",
       "    <tr>\n",
       "      <th>1</th>\n",
       "      <td>2971502978172978172979692983442990492991253003...</td>\n",
       "      <td>Lightning Charging CableiPhoneLightning Chargi...</td>\n",
       "      <td>10903</td>\n",
       "      <td>1811768.38</td>\n",
       "      <td>01/01/20 00:3801/01/20 00:2201/01/20 00:2201/0...</td>\n",
       "      <td>427 Wilson St, Dallas, TX 75001519 13th St, Ne...</td>\n",
       "      <td>Dallas (TX)New York City (NY)New York City (NY...</td>\n",
       "      <td>1822256.73</td>\n",
       "    </tr>\n",
       "    <tr>\n",
       "      <th>2</th>\n",
       "      <td>1505021505031505041505051505061505071505081505...</td>\n",
       "      <td>iPhoneAA Batteries (4-pack)27in 4K Gaming Moni...</td>\n",
       "      <td>13449</td>\n",
       "      <td>2188884.72</td>\n",
       "      <td>02/18/19 01:3502/13/19 07:2402/18/19 09:4602/0...</td>\n",
       "      <td>866 Spruce St, Portland, ME 0410118 13th St, S...</td>\n",
       "      <td>Portland (ME)San Francisco (CA)New York City (...</td>\n",
       "      <td>2202022.42</td>\n",
       "    </tr>\n",
       "    <tr>\n",
       "      <th>3</th>\n",
       "      <td>1505331505411508121517491520361532841535441538...</td>\n",
       "      <td>AAA Batteries (4-pack)AAA Batteries (4-pack)Wi...</td>\n",
       "      <td>17005</td>\n",
       "      <td>2791207.83</td>\n",
       "      <td>03/01/19 03:0603/01/19 01:0303/01/19 02:1803/0...</td>\n",
       "      <td>270 Dogwood St, San Francisco, CA 94016683 Ada...</td>\n",
       "      <td>San Francisco (CA)Portland (OR)San Francisco (...</td>\n",
       "      <td>2807100.38</td>\n",
       "    </tr>\n",
       "    <tr>\n",
       "      <th>4</th>\n",
       "      <td>1765581765591765601765601765611765621765631765...</td>\n",
       "      <td>USB-C Charging CableBose SoundSport Headphones...</td>\n",
       "      <td>20558</td>\n",
       "      <td>3367671.02</td>\n",
       "      <td>04/19/19 08:4604/07/19 22:3004/12/19 14:3804/1...</td>\n",
       "      <td>917 1st St, Dallas, TX 75001682 Chestnut St, B...</td>\n",
       "      <td>Dallas (TX)Boston (MA)Los Angeles (CA)Los Ange...</td>\n",
       "      <td>3390670.24</td>\n",
       "    </tr>\n",
       "    <tr>\n",
       "      <th>5</th>\n",
       "      <td>1769781775511777781777781790761790761791341800...</td>\n",
       "      <td>Apple Airpods Headphones27in FHD MonitoriPhone...</td>\n",
       "      <td>18667</td>\n",
       "      <td>3135125.13</td>\n",
       "      <td>05/01/19 03:2905/01/19 00:1305/01/19 00:4805/0...</td>\n",
       "      <td>589 Lake St, Portland, OR 97035615 Lincoln St,...</td>\n",
       "      <td>Portland (OR)San Francisco (CA)Boston (MA)Bost...</td>\n",
       "      <td>3152606.75</td>\n",
       "    </tr>\n",
       "    <tr>\n",
       "      <th>6</th>\n",
       "      <td>1957481958691960721961321966381966391976981990...</td>\n",
       "      <td>27in FHD MonitorAAA Batteries (4-pack)Lightnin...</td>\n",
       "      <td>15253</td>\n",
       "      <td>2562025.61</td>\n",
       "      <td>06/01/19 03:2606/01/19 01:0606/01/19 00:1806/0...</td>\n",
       "      <td>856 Elm St, San Francisco, CA 94016877 Center ...</td>\n",
       "      <td>San Francisco (CA)Dallas (TX)San Francisco (CA...</td>\n",
       "      <td>2577802.26</td>\n",
       "    </tr>\n",
       "    <tr>\n",
       "      <th>7</th>\n",
       "      <td>2229102229112229122229132229142229152229162229...</td>\n",
       "      <td>Apple Airpods HeadphonesFlatscreen TVAA Batter...</td>\n",
       "      <td>16072</td>\n",
       "      <td>2632539.56</td>\n",
       "      <td>07/26/19 16:5107/05/19 08:5507/29/19 12:4107/2...</td>\n",
       "      <td>389 South St, Atlanta, GA 30301590 4th St, Sea...</td>\n",
       "      <td>Atlanta (GA)Seattle (WA)Atlanta (GA)Atlanta (G...</td>\n",
       "      <td>2647775.76</td>\n",
       "    </tr>\n",
       "    <tr>\n",
       "      <th>8</th>\n",
       "      <td>2366702366712366722366732366742366752366762366...</td>\n",
       "      <td>Wired HeadphonesBose SoundSport HeadphonesiPho...</td>\n",
       "      <td>13448</td>\n",
       "      <td>2230345.42</td>\n",
       "      <td>08/31/19 22:2108/15/19 15:1108/06/19 14:4008/2...</td>\n",
       "      <td>359 Spruce St, Seattle, WA 98101492 Ridge St, ...</td>\n",
       "      <td>Seattle (WA)Dallas (TX)Portland (OR)Los Angele...</td>\n",
       "      <td>2244467.88</td>\n",
       "    </tr>\n",
       "    <tr>\n",
       "      <th>9</th>\n",
       "      <td>2388342392852406362410542423432428652436672449...</td>\n",
       "      <td>Apple Airpods Headphones34in Ultrawide Monitor...</td>\n",
       "      <td>13109</td>\n",
       "      <td>2084992.09</td>\n",
       "      <td>09/01/19 04:1309/01/19 01:0909/01/19 02:0709/0...</td>\n",
       "      <td>761 Forest St, San Francisco, CA 94016373 1st ...</td>\n",
       "      <td>San Francisco (CA)San Francisco (CA)Seattle (W...</td>\n",
       "      <td>2097560.13</td>\n",
       "    </tr>\n",
       "    <tr>\n",
       "      <th>10</th>\n",
       "      <td>2593582593592593602593612593622593632593642593...</td>\n",
       "      <td>34in Ultrawide Monitor27in 4K Gaming MonitorAA...</td>\n",
       "      <td>22703</td>\n",
       "      <td>3715554.83</td>\n",
       "      <td>10/28/19 10:5610/28/19 17:2610/24/19 17:2010/1...</td>\n",
       "      <td>609 Cherry St, Dallas, TX 75001225 5th St, Los...</td>\n",
       "      <td>Dallas (TX)Los Angeles (CA)New York City (NY)N...</td>\n",
       "      <td>3736726.88</td>\n",
       "    </tr>\n",
       "    <tr>\n",
       "      <th>11</th>\n",
       "      <td>2787972787982787992788002788012788022788032788...</td>\n",
       "      <td>Wired HeadphonesUSB-C Charging CableApple Airp...</td>\n",
       "      <td>19798</td>\n",
       "      <td>3180600.68</td>\n",
       "      <td>11/21/19 09:5411/17/19 10:0311/19/19 14:5611/2...</td>\n",
       "      <td>46 Park St, New York City, NY 10001962 Hickory...</td>\n",
       "      <td>New York City (NY)Austin (TX)Los Angeles (CA)S...</td>\n",
       "      <td>3199603.20</td>\n",
       "    </tr>\n",
       "    <tr>\n",
       "      <th>12</th>\n",
       "      <td>2956652956662956672956682956692956702956712956...</td>\n",
       "      <td>Macbook Pro LaptopLG Washing MachineUSB-C Char...</td>\n",
       "      <td>28114</td>\n",
       "      <td>4588415.41</td>\n",
       "      <td>12/30/19 00:0112/29/19 07:0312/12/19 18:2112/2...</td>\n",
       "      <td>136 Church St, New York City, NY 10001562 2nd ...</td>\n",
       "      <td>New York City (NY)New York City (NY)New York C...</td>\n",
       "      <td>4613443.34</td>\n",
       "    </tr>\n",
       "  </tbody>\n",
       "</table>\n",
       "</div>"
      ],
      "text/plain": [
       "                                                Order ID  \\\n",
       "Month                                                      \n",
       "1      2971502978172978172979692983442990492991253003...   \n",
       "2      1505021505031505041505051505061505071505081505...   \n",
       "3      1505331505411508121517491520361532841535441538...   \n",
       "4      1765581765591765601765601765611765621765631765...   \n",
       "5      1769781775511777781777781790761790761791341800...   \n",
       "6      1957481958691960721961321966381966391976981990...   \n",
       "7      2229102229112229122229132229142229152229162229...   \n",
       "8      2366702366712366722366732366742366752366762366...   \n",
       "9      2388342392852406362410542423432428652436672449...   \n",
       "10     2593582593592593602593612593622593632593642593...   \n",
       "11     2787972787982787992788002788012788022788032788...   \n",
       "12     2956652956662956672956682956692956702956712956...   \n",
       "\n",
       "                                                 Product  Quantity Ordered  \\\n",
       "Month                                                                        \n",
       "1      Lightning Charging CableiPhoneLightning Chargi...             10903   \n",
       "2      iPhoneAA Batteries (4-pack)27in 4K Gaming Moni...             13449   \n",
       "3      AAA Batteries (4-pack)AAA Batteries (4-pack)Wi...             17005   \n",
       "4      USB-C Charging CableBose SoundSport Headphones...             20558   \n",
       "5      Apple Airpods Headphones27in FHD MonitoriPhone...             18667   \n",
       "6      27in FHD MonitorAAA Batteries (4-pack)Lightnin...             15253   \n",
       "7      Apple Airpods HeadphonesFlatscreen TVAA Batter...             16072   \n",
       "8      Wired HeadphonesBose SoundSport HeadphonesiPho...             13448   \n",
       "9      Apple Airpods Headphones34in Ultrawide Monitor...             13109   \n",
       "10     34in Ultrawide Monitor27in 4K Gaming MonitorAA...             22703   \n",
       "11     Wired HeadphonesUSB-C Charging CableApple Airp...             19798   \n",
       "12     Macbook Pro LaptopLG Washing MachineUSB-C Char...             28114   \n",
       "\n",
       "       Price Each                                         Order Date  \\\n",
       "Month                                                                  \n",
       "1      1811768.38  01/01/20 00:3801/01/20 00:2201/01/20 00:2201/0...   \n",
       "2      2188884.72  02/18/19 01:3502/13/19 07:2402/18/19 09:4602/0...   \n",
       "3      2791207.83  03/01/19 03:0603/01/19 01:0303/01/19 02:1803/0...   \n",
       "4      3367671.02  04/19/19 08:4604/07/19 22:3004/12/19 14:3804/1...   \n",
       "5      3135125.13  05/01/19 03:2905/01/19 00:1305/01/19 00:4805/0...   \n",
       "6      2562025.61  06/01/19 03:2606/01/19 01:0606/01/19 00:1806/0...   \n",
       "7      2632539.56  07/26/19 16:5107/05/19 08:5507/29/19 12:4107/2...   \n",
       "8      2230345.42  08/31/19 22:2108/15/19 15:1108/06/19 14:4008/2...   \n",
       "9      2084992.09  09/01/19 04:1309/01/19 01:0909/01/19 02:0709/0...   \n",
       "10     3715554.83  10/28/19 10:5610/28/19 17:2610/24/19 17:2010/1...   \n",
       "11     3180600.68  11/21/19 09:5411/17/19 10:0311/19/19 14:5611/2...   \n",
       "12     4588415.41  12/30/19 00:0112/29/19 07:0312/12/19 18:2112/2...   \n",
       "\n",
       "                                        Purchase Address  \\\n",
       "Month                                                      \n",
       "1      427 Wilson St, Dallas, TX 75001519 13th St, Ne...   \n",
       "2      866 Spruce St, Portland, ME 0410118 13th St, S...   \n",
       "3      270 Dogwood St, San Francisco, CA 94016683 Ada...   \n",
       "4      917 1st St, Dallas, TX 75001682 Chestnut St, B...   \n",
       "5      589 Lake St, Portland, OR 97035615 Lincoln St,...   \n",
       "6      856 Elm St, San Francisco, CA 94016877 Center ...   \n",
       "7      389 South St, Atlanta, GA 30301590 4th St, Sea...   \n",
       "8      359 Spruce St, Seattle, WA 98101492 Ridge St, ...   \n",
       "9      761 Forest St, San Francisco, CA 94016373 1st ...   \n",
       "10     609 Cherry St, Dallas, TX 75001225 5th St, Los...   \n",
       "11     46 Park St, New York City, NY 10001962 Hickory...   \n",
       "12     136 Church St, New York City, NY 10001562 2nd ...   \n",
       "\n",
       "                                                    City       Sales  \n",
       "Month                                                                 \n",
       "1      Dallas (TX)New York City (NY)New York City (NY...  1822256.73  \n",
       "2      Portland (ME)San Francisco (CA)New York City (...  2202022.42  \n",
       "3      San Francisco (CA)Portland (OR)San Francisco (...  2807100.38  \n",
       "4      Dallas (TX)Boston (MA)Los Angeles (CA)Los Ange...  3390670.24  \n",
       "5      Portland (OR)San Francisco (CA)Boston (MA)Bost...  3152606.75  \n",
       "6      San Francisco (CA)Dallas (TX)San Francisco (CA...  2577802.26  \n",
       "7      Atlanta (GA)Seattle (WA)Atlanta (GA)Atlanta (G...  2647775.76  \n",
       "8      Seattle (WA)Dallas (TX)Portland (OR)Los Angele...  2244467.88  \n",
       "9      San Francisco (CA)San Francisco (CA)Seattle (W...  2097560.13  \n",
       "10     Dallas (TX)Los Angeles (CA)New York City (NY)N...  3736726.88  \n",
       "11     New York City (NY)Austin (TX)Los Angeles (CA)S...  3199603.20  \n",
       "12     New York City (NY)New York City (NY)New York C...  4613443.34  "
      ]
     },
     "execution_count": 72,
     "metadata": {},
     "output_type": "execute_result"
    }
   ],
   "source": [
    "all_data['Sales'] = all_data['Quantity Ordered'].astype('int') * all_data['Price Each'].astype('float')\n",
    "\n",
    "all_data.groupby(['Month']).sum()"
   ]
  },
  {
   "cell_type": "markdown",
   "id": "fb8ff285-1ecb-443c-a1e8-b7bd2cd4f122",
   "metadata": {},
   "source": [
    "#### using plt show the sales"
   ]
  },
  {
   "cell_type": "code",
   "execution_count": null,
   "id": "b96ebf24-2bc4-4621-accb-dd653bf02a75",
   "metadata": {},
   "outputs": [],
   "source": [
    "import matplotlib.pyplot as plt"
   ]
  },
  {
   "cell_type": "code",
   "execution_count": 77,
   "id": "37acd8a5-6717-41bf-aa1b-de3a32565c68",
   "metadata": {},
   "outputs": [
    {
     "data": {
      "image/png": "[encoded data removed]",
      "text/plain": [
       "<Figure size 640x480 with 1 Axes>"
      ]
     },
     "metadata": {},
     "output_type": "display_data"
    }
   ],
   "source": [
    "months = range(1,13)\n",
    "\n",
    "plt.bar(months, all_data.groupby(['Month']).sum()['Sales'])\n",
    "plt.xticks(months)\n",
    "plt.ylabel('Sales in USD ($)')\n",
    "plt.xlabel('Month number')\n",
    "plt.show()\n"
   ]
  },
  {
   "cell_type": "markdown",
   "id": "4d67bf2b-95d2-4a33-b351-79126838045d",
   "metadata": {},
   "source": [
    "#### Question 2: What city sold the most product?"
   ]
  },
  {
   "cell_type": "code",
   "execution_count": 89,
   "id": "dd19954b-d56e-44ea-b6a0-e81ff7705d3b",
   "metadata": {},
   "outputs": [
    {
     "name": "stdout",
     "output_type": "stream",
     "text": [
      "Index(['Atlanta (GA)', 'Austin (TX)', 'Boston (MA)', 'Dallas (TX)',\n",
      "       'Los Angeles (CA)', 'New York City (NY)', 'Portland (ME)',\n",
      "       'Portland (OR)', 'San Francisco (CA)', 'Seattle (WA)'],\n",
      "      dtype='object', name='City')\n"
     ]
    }
   ],
   "source": [
    "citySales =  pd.DataFrame(all_data.groupby(['City'])['Sales'].sum())"
   ]
  },
  {
   "cell_type": "code",
   "execution_count": 91,
   "id": "29a58ae4-b408-4991-8b1e-375d5c438700",
   "metadata": {},
   "outputs": [
    {
     "data": {
      "image/png": "[encoded data removed]",
      "text/plain": [
       "<Figure size 640x480 with 1 Axes>"
      ]
     },
     "metadata": {},
     "output_type": "display_data"
    }
   ],
   "source": [
    "plt.bar(citySales.index,citySales['Sales'])\n",
    "plt.ylabel('Sales in USD ($)')\n",
    "plt.xlabel('Month number')\n",
    "plt.xticks(citySales.index, rotation='vertical', size=8)\n",
    "plt.show()"
   ]
  },
  {
   "cell_type": "markdown",
   "id": "6b2f4af9-b0b4-4d6b-9c49-3b375a11b280",
   "metadata": {},
   "source": [
    "#### Question 3: What time should we display advertisements to maximize likelihood of customer's buying product?"
   ]
  },
  {
   "cell_type": "code",
   "execution_count": 92,
   "id": "f5f3fada-28be-4fc2-9480-f98fd6a1d5a0",
   "metadata": {},
   "outputs": [
    {
     "name": "stderr",
     "output_type": "stream",
     "text": [
      "/var/folders/2q/n7vgjd694zd8pxztn7p8fd140000gn/T/ipykernel_90457/3943995571.py:2: UserWarning: Could not infer format, so each element will be parsed individually, falling back to `dateutil`. To ensure parsing is consistent and as-expected, please specify a format.\n",
      "  all_data['Hour'] = pd.to_datetime(all_data['Order Date']).dt.hour\n",
      "/var/folders/2q/n7vgjd694zd8pxztn7p8fd140000gn/T/ipykernel_90457/3943995571.py:3: UserWarning: Could not infer format, so each element will be parsed individually, falling back to `dateutil`. To ensure parsing is consistent and as-expected, please specify a format.\n",
      "  all_data['Minute'] = pd.to_datetime(all_data['Order Date']).dt.minute\n"
     ]
    },
    {
     "data": {
      "text/html": [
       "<div>\n",
       "<style scoped>\n",
       "    .dataframe tbody tr th:only-of-type {\n",
       "        vertical-align: middle;\n",
       "    }\n",
       "\n",
       "    .dataframe tbody tr th {\n",
       "        vertical-align: top;\n",
       "    }\n",
       "\n",
       "    .dataframe thead th {\n",
       "        text-align: right;\n",
       "    }\n",
       "</style>\n",
       "<table border=\"1\" class=\"dataframe\">\n",
       "  <thead>\n",
       "    <tr style=\"text-align: right;\">\n",
       "      <th></th>\n",
       "      <th>Order ID</th>\n",
       "      <th>Product</th>\n",
       "      <th>Quantity Ordered</th>\n",
       "      <th>Price Each</th>\n",
       "      <th>Order Date</th>\n",
       "      <th>Purchase Address</th>\n",
       "      <th>Month</th>\n",
       "      <th>City</th>\n",
       "      <th>Sales</th>\n",
       "      <th>Hour</th>\n",
       "      <th>Minute</th>\n",
       "      <th>Count</th>\n",
       "    </tr>\n",
       "  </thead>\n",
       "  <tbody>\n",
       "    <tr>\n",
       "      <th>0</th>\n",
       "      <td>295665</td>\n",
       "      <td>Macbook Pro Laptop</td>\n",
       "      <td>1</td>\n",
       "      <td>1700.00</td>\n",
       "      <td>12/30/19 00:01</td>\n",
       "      <td>136 Church St, New York City, NY 10001</td>\n",
       "      <td>12</td>\n",
       "      <td>New York City (NY)</td>\n",
       "      <td>1700.00</td>\n",
       "      <td>0</td>\n",
       "      <td>1</td>\n",
       "      <td>1</td>\n",
       "    </tr>\n",
       "    <tr>\n",
       "      <th>1</th>\n",
       "      <td>295666</td>\n",
       "      <td>LG Washing Machine</td>\n",
       "      <td>1</td>\n",
       "      <td>600.00</td>\n",
       "      <td>12/29/19 07:03</td>\n",
       "      <td>562 2nd St, New York City, NY 10001</td>\n",
       "      <td>12</td>\n",
       "      <td>New York City (NY)</td>\n",
       "      <td>600.00</td>\n",
       "      <td>7</td>\n",
       "      <td>3</td>\n",
       "      <td>1</td>\n",
       "    </tr>\n",
       "    <tr>\n",
       "      <th>2</th>\n",
       "      <td>295667</td>\n",
       "      <td>USB-C Charging Cable</td>\n",
       "      <td>1</td>\n",
       "      <td>11.95</td>\n",
       "      <td>12/12/19 18:21</td>\n",
       "      <td>277 Main St, New York City, NY 10001</td>\n",
       "      <td>12</td>\n",
       "      <td>New York City (NY)</td>\n",
       "      <td>11.95</td>\n",
       "      <td>18</td>\n",
       "      <td>21</td>\n",
       "      <td>1</td>\n",
       "    </tr>\n",
       "    <tr>\n",
       "      <th>3</th>\n",
       "      <td>295668</td>\n",
       "      <td>27in FHD Monitor</td>\n",
       "      <td>1</td>\n",
       "      <td>149.99</td>\n",
       "      <td>12/22/19 15:13</td>\n",
       "      <td>410 6th St, San Francisco, CA 94016</td>\n",
       "      <td>12</td>\n",
       "      <td>San Francisco (CA)</td>\n",
       "      <td>149.99</td>\n",
       "      <td>15</td>\n",
       "      <td>13</td>\n",
       "      <td>1</td>\n",
       "    </tr>\n",
       "    <tr>\n",
       "      <th>4</th>\n",
       "      <td>295669</td>\n",
       "      <td>USB-C Charging Cable</td>\n",
       "      <td>1</td>\n",
       "      <td>11.95</td>\n",
       "      <td>12/18/19 12:38</td>\n",
       "      <td>43 Hill St, Atlanta, GA 30301</td>\n",
       "      <td>12</td>\n",
       "      <td>Atlanta (GA)</td>\n",
       "      <td>11.95</td>\n",
       "      <td>12</td>\n",
       "      <td>38</td>\n",
       "      <td>1</td>\n",
       "    </tr>\n",
       "  </tbody>\n",
       "</table>\n",
       "</div>"
      ],
      "text/plain": [
       "  Order ID               Product  Quantity Ordered  Price Each  \\\n",
       "0   295665    Macbook Pro Laptop                 1     1700.00   \n",
       "1   295666    LG Washing Machine                 1      600.00   \n",
       "2   295667  USB-C Charging Cable                 1       11.95   \n",
       "3   295668      27in FHD Monitor                 1      149.99   \n",
       "4   295669  USB-C Charging Cable                 1       11.95   \n",
       "\n",
       "       Order Date                        Purchase Address  Month  \\\n",
       "0  12/30/19 00:01  136 Church St, New York City, NY 10001     12   \n",
       "1  12/29/19 07:03     562 2nd St, New York City, NY 10001     12   \n",
       "2  12/12/19 18:21    277 Main St, New York City, NY 10001     12   \n",
       "3  12/22/19 15:13     410 6th St, San Francisco, CA 94016     12   \n",
       "4  12/18/19 12:38           43 Hill St, Atlanta, GA 30301     12   \n",
       "\n",
       "                 City    Sales  Hour  Minute  Count  \n",
       "0  New York City (NY)  1700.00     0       1      1  \n",
       "1  New York City (NY)   600.00     7       3      1  \n",
       "2  New York City (NY)    11.95    18      21      1  \n",
       "3  San Francisco (CA)   149.99    15      13      1  \n",
       "4        Atlanta (GA)    11.95    12      38      1  "
      ]
     },
     "execution_count": 92,
     "metadata": {},
     "output_type": "execute_result"
    }
   ],
   "source": [
    "# Add hour column\n",
    "all_data['Hour'] = pd.to_datetime(all_data['Order Date']).dt.hour\n",
    "all_data['Minute'] = pd.to_datetime(all_data['Order Date']).dt.minute\n",
    "all_data['Count'] = 1\n",
    "all_data.head()"
   ]
  },
  {
   "cell_type": "code",
   "execution_count": 98,
   "id": "f3131fc8-3520-4333-bf8b-67b8142172d8",
   "metadata": {},
   "outputs": [
    {
     "data": {
      "image/png": "[encoded data removed]",
      "text/plain": [
       "<Figure size 640x480 with 1 Axes>"
      ]
     },
     "metadata": {},
     "output_type": "display_data"
    }
   ],
   "source": [
    "counts = pd.DataFrame(all_data.groupby(['Hour'])['Count'].count())\n",
    "\n",
    "plt.plot(counts.index, counts['Count'])\n",
    "plt.xticks(counts.index)\n",
    "plt.grid()\n",
    "plt.show()\n"
   ]
  },
  {
   "cell_type": "markdown",
   "id": "440d6951-fec0-4ae2-b107-6918402a4b02",
   "metadata": {},
   "source": [
    "#### Question 4: What products are most often sold together?"
   ]
  },
  {
   "cell_type": "code",
   "execution_count": 102,
   "id": "1df52891-ad44-4d1f-94f8-f630becb7b97",
   "metadata": {},
   "outputs": [
    {
     "name": "stdout",
     "output_type": "stream",
     "text": [
      "   Order ID                     Product  Quantity Ordered  Price Each  \\\n",
      "16   295681                Google Phone                 1      600.00   \n",
      "17   295681        USB-C Charging Cable                 1       11.95   \n",
      "18   295681  Bose SoundSport Headphones                 1       99.99   \n",
      "19   295681            Wired Headphones                 1       11.99   \n",
      "36   295698             Vareebadd Phone                 1      400.00   \n",
      "\n",
      "        Order Date                     Purchase Address  Month  \\\n",
      "16  12/25/19 12:37          79 Elm St, Boston, MA 02215     12   \n",
      "17  12/25/19 12:37          79 Elm St, Boston, MA 02215     12   \n",
      "18  12/25/19 12:37          79 Elm St, Boston, MA 02215     12   \n",
      "19  12/25/19 12:37          79 Elm St, Boston, MA 02215     12   \n",
      "36  12/13/19 14:32  175 1st St, New York City, NY 10001     12   \n",
      "\n",
      "                  City   Sales  Hour  Minute  Count  \\\n",
      "16         Boston (MA)  600.00    12      37      1   \n",
      "17         Boston (MA)   11.95    12      37      1   \n",
      "18         Boston (MA)   99.99    12      37      1   \n",
      "19         Boston (MA)   11.99    12      37      1   \n",
      "36  New York City (NY)  400.00    14      32      1   \n",
      "\n",
      "                                              Grouped  \n",
      "16  Google Phone,USB-C Charging Cable,Bose SoundSp...  \n",
      "17  Google Phone,USB-C Charging Cable,Bose SoundSp...  \n",
      "18  Google Phone,USB-C Charging Cable,Bose SoundSp...  \n",
      "19  Google Phone,USB-C Charging Cable,Bose SoundSp...  \n",
      "36               Vareebadd Phone,USB-C Charging Cable  \n"
     ]
    },
    {
     "name": "stderr",
     "output_type": "stream",
     "text": [
      "/var/folders/2q/n7vgjd694zd8pxztn7p8fd140000gn/T/ipykernel_90457/1287700618.py:2: SettingWithCopyWarning: \n",
      "A value is trying to be set on a copy of a slice from a DataFrame.\n",
      "Try using .loc[row_indexer,col_indexer] = value instead\n",
      "\n",
      "See the caveats in the documentation: https://pandas.pydata.org/pandas-docs/stable/user_guide/indexing.html#returning-a-view-versus-a-copy\n",
      "  idf['Grouped'] = idf.groupby('Order ID')['Product'].transform(lambda x: ','.join(x))\n"
     ]
    }
   ],
   "source": [
    "idf = all_data[all_data['Order ID'].duplicated(keep=False)]\n",
    "idf['Grouped'] = idf.groupby('Order ID')['Product'].transform(lambda x: ','.join(x))\n",
    "print(idf.head())"
   ]
  }
 ],
 "metadata": {
  "kernelspec": {
   "display_name": "Python 3 (ipykernel)",
   "language": "python",
   "name": "python3"
  },
  "language_info": {
   "codemirror_mode": {
    "name": "ipython",
    "version": 3
   },
   "file_extension": ".py",
   "mimetype": "text/x-python",
   "name": "python",
   "nbconvert_exporter": "python",
   "pygments_lexer": "ipython3",
   "version": "3.10.8"
  }
 },
 "nbformat": 4,
 "nbformat_minor": 5
}
